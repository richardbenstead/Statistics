{
 "cells": [
  {
   "cell_type": "markdown",
   "id": "f96c5309",
   "metadata": {},
   "source": [
    "# Some notes on regression statistics"
   ]
  },
  {
   "cell_type": "code",
   "execution_count": 15,
   "id": "2b76b40f",
   "metadata": {
    "scrolled": false
   },
   "outputs": [],
   "source": [
    "import numpy as np\n",
    "import pandas as pd\n",
    "from scipy.stats import t\n",
    "import statsmodels.api as sm\n",
    "import matplotlib.pyplot as plt\n",
    "\n",
    "# generate random regression data\n",
    "N=1000\n",
    "M=5\n",
    "X = np.random.ranf((N,M))\n",
    "B = np.random.ranf(M)\n",
    "eps = np.random.normal(size=N) * 10\n",
    "Y = X @ B + eps"
   ]
  },
  {
   "cell_type": "code",
   "execution_count": 14,
   "id": "37add3ab",
   "metadata": {},
   "outputs": [
    {
     "name": "stdout",
     "output_type": "stream",
     "text": [
      "R2: [0.015]\n",
      "   Beta hat  Beta SEs   t-stats    p-vals\n",
      "0  1.022937  1.023936  0.999025  0.318025\n",
      "1  0.487853  1.020993  0.477822  0.632882\n",
      "2  0.447468  1.013443  0.441533  0.658923\n",
      "3 -0.936951  0.997309 -0.939478  0.347713\n",
      "4  1.223707  1.005457  1.217066  0.223868\n"
     ]
    }
   ],
   "source": [
    "# Estimate betas\n",
    "reg = pd.DataFrame()\n",
    "B_hat = np.linalg.inv(X.T @ X) @ X.T @ Y\n",
    "reg['Beta hat'] = B_hat\n",
    "\n",
    "# get residuals\n",
    "eps_hat = Y - X @ B_hat\n",
    "\n",
    "# Get R2\n",
    "TSS = Y.T @ Y # total SS\n",
    "RSS = eps_hat.T @ eps_hat.T # residual SS\n",
    "R2 = 1-RSS/TSS\n",
    "print(f'R2: [{R2:.3f}]')\n",
    "\n",
    "# Get SE per beta\n",
    "# 1: VAR(AY) = A VAR(Y) A^T\n",
    "# 2: B_hat = (X^T X)^{-1} X^T Y\n",
    "# substituting U = (X^T X)^{-1} X^T => VAR(B_hat) = VAR(U Y) = U VAR(Y) U^T\n",
    "U = np.linalg.inv(X.T @ X) @ X.T\n",
    "E_HAT = Y - X @ B_hat\n",
    "VAR_E = np.sum(E_HAT.T @ E_HAT)/(N-M) - (np.sum(E_HAT)/(N-M))**2\n",
    "SE_beta = (U @ (np.identity(N) * VAR_E) @ U.T).diagonal() ** 0.5\n",
    "reg['Beta SEs'] = SE_beta\n",
    "\n",
    "# Get t-stat per beta\n",
    "t_stats = B_hat / SE_beta\n",
    "reg['t-stats'] = t_stats\n",
    "\n",
    "# Get p-stat per beta\n",
    "p_null = 1 - 2 * np.abs(t.cdf(t_stats, N-M) - 0.5)  # 1 - prob of being further from center\n",
    "reg['p-vals'] = p_null\n",
    "\n",
    "print(reg)"
   ]
  },
  {
   "cell_type": "code",
   "execution_count": 9,
   "id": "35a422d6",
   "metadata": {},
   "outputs": [
    {
     "name": "stdout",
     "output_type": "stream",
     "text": [
      "                                 OLS Regression Results                                \n",
      "=======================================================================================\n",
      "Dep. Variable:                      y   R-squared (uncentered):                   0.015\n",
      "Model:                            OLS   Adj. R-squared (uncentered):              0.010\n",
      "Method:                 Least Squares   F-statistic:                              2.963\n",
      "Date:                Sat, 31 Jul 2021   Prob (F-statistic):                      0.0116\n",
      "Time:                        17:16:52   Log-Likelihood:                         -3748.7\n",
      "No. Observations:                1000   AIC:                                      7507.\n",
      "Df Residuals:                     995   BIC:                                      7532.\n",
      "Df Model:                           5                                                  \n",
      "Covariance Type:            nonrobust                                                  \n",
      "==============================================================================\n",
      "                 coef    std err          t      P>|t|      [0.025      0.975]\n",
      "------------------------------------------------------------------------------\n",
      "x1             1.0229      1.024      0.999      0.318      -0.986       3.032\n",
      "x2             0.4879      1.021      0.478      0.633      -1.516       2.491\n",
      "x3             0.4475      1.013      0.442      0.659      -1.541       2.436\n",
      "x4            -0.9370      0.997     -0.939      0.348      -2.894       1.020\n",
      "x5             1.2237      1.005      1.217      0.224      -0.749       3.197\n",
      "==============================================================================\n",
      "Omnibus:                        0.084   Durbin-Watson:                   2.043\n",
      "Prob(Omnibus):                  0.959   Jarque-Bera (JB):                0.138\n",
      "Skew:                          -0.015   Prob(JB):                        0.933\n",
      "Kurtosis:                       2.951   Cond. No.                         4.21\n",
      "==============================================================================\n",
      "\n",
      "Notes:\n",
      "[1] R² is computed without centering (uncentered) since the model does not contain a constant.\n",
      "[2] Standard Errors assume that the covariance matrix of the errors is correctly specified.\n"
     ]
    }
   ],
   "source": [
    "# Get log-likelihood\n",
    "# Get BIC\n",
    "\n",
    "print(sm.OLS(Y, X).fit().summary())"
   ]
  },
  {
   "cell_type": "code",
   "execution_count": null,
   "id": "2f2682b7",
   "metadata": {},
   "outputs": [],
   "source": []
  }
 ],
 "metadata": {
  "kernelspec": {
   "display_name": "Python 3",
   "language": "python",
   "name": "python3"
  },
  "language_info": {
   "codemirror_mode": {
    "name": "ipython",
    "version": 3
   },
   "file_extension": ".py",
   "mimetype": "text/x-python",
   "name": "python",
   "nbconvert_exporter": "python",
   "pygments_lexer": "ipython3",
   "version": "3.9.1"
  }
 },
 "nbformat": 4,
 "nbformat_minor": 5
}
