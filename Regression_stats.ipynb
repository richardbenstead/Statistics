{
 "cells": [
  {
   "cell_type": "markdown",
   "id": "f96c5309",
   "metadata": {},
   "source": [
    "# Some notes on regression statistics"
   ]
  },
  {
   "cell_type": "code",
   "execution_count": 40,
   "id": "2b76b40f",
   "metadata": {
    "scrolled": false
   },
   "outputs": [],
   "source": [
    "import numpy as np\n",
    "import pandas as pd\n",
    "from scipy.stats import t\n",
    "import statsmodels.api as sm\n",
    "import matplotlib.pyplot as plt\n",
    "from IPython.display import display\n",
    "\n",
    "# generate random regression data\n",
    "N=1000\n",
    "M=5\n",
    "X = np.random.ranf((N,M))\n",
    "B = np.random.ranf(M)\n",
    "eps = np.random.normal(size=N) * 10\n",
    "Y = X @ B + eps"
   ]
  },
  {
   "cell_type": "code",
   "execution_count": 43,
   "id": "37add3ab",
   "metadata": {},
   "outputs": [
    {
     "name": "stdout",
     "output_type": "stream",
     "text": [
      "R2: [0.050]\n",
      "log-likelihood [-3702.88]\n",
      "Bayesian information criteria: [7440.31]\n"
     ]
    },
    {
     "data": {
      "text/html": [
       "<div>\n",
       "<style scoped>\n",
       "    .dataframe tbody tr th:only-of-type {\n",
       "        vertical-align: middle;\n",
       "    }\n",
       "\n",
       "    .dataframe tbody tr th {\n",
       "        vertical-align: top;\n",
       "    }\n",
       "\n",
       "    .dataframe thead th {\n",
       "        text-align: right;\n",
       "    }\n",
       "</style>\n",
       "<table border=\"1\" class=\"dataframe\">\n",
       "  <thead>\n",
       "    <tr style=\"text-align: right;\">\n",
       "      <th></th>\n",
       "      <th>Beta hat</th>\n",
       "      <th>Beta SEs</th>\n",
       "      <th>t-stats</th>\n",
       "      <th>p-vals</th>\n",
       "    </tr>\n",
       "  </thead>\n",
       "  <tbody>\n",
       "    <tr>\n",
       "      <th>0</th>\n",
       "      <td>2.618201</td>\n",
       "      <td>1.014816</td>\n",
       "      <td>2.579977</td>\n",
       "      <td>0.010023</td>\n",
       "    </tr>\n",
       "    <tr>\n",
       "      <th>1</th>\n",
       "      <td>2.082878</td>\n",
       "      <td>0.965994</td>\n",
       "      <td>2.156203</td>\n",
       "      <td>0.031307</td>\n",
       "    </tr>\n",
       "    <tr>\n",
       "      <th>2</th>\n",
       "      <td>-0.955345</td>\n",
       "      <td>0.925653</td>\n",
       "      <td>-1.032076</td>\n",
       "      <td>0.302287</td>\n",
       "    </tr>\n",
       "    <tr>\n",
       "      <th>3</th>\n",
       "      <td>1.018135</td>\n",
       "      <td>0.964835</td>\n",
       "      <td>1.055242</td>\n",
       "      <td>0.291571</td>\n",
       "    </tr>\n",
       "    <tr>\n",
       "      <th>4</th>\n",
       "      <td>-0.745855</td>\n",
       "      <td>0.977628</td>\n",
       "      <td>-0.762923</td>\n",
       "      <td>0.445690</td>\n",
       "    </tr>\n",
       "  </tbody>\n",
       "</table>\n",
       "</div>"
      ],
      "text/plain": [
       "   Beta hat  Beta SEs   t-stats    p-vals\n",
       "0  2.618201  1.014816  2.579977  0.010023\n",
       "1  2.082878  0.965994  2.156203  0.031307\n",
       "2 -0.955345  0.925653 -1.032076  0.302287\n",
       "3  1.018135  0.964835  1.055242  0.291571\n",
       "4 -0.745855  0.977628 -0.762923  0.445690"
      ]
     },
     "metadata": {},
     "output_type": "display_data"
    }
   ],
   "source": [
    "# Estimate betas\n",
    "reg = pd.DataFrame()\n",
    "B_hat = np.linalg.inv(X.T @ X) @ X.T @ Y\n",
    "reg['Beta hat'] = B_hat\n",
    "\n",
    "# get residuals\n",
    "eps_hat = Y - X @ B_hat\n",
    "\n",
    "# Get R2\n",
    "TSS = Y.T @ Y # total SS\n",
    "RSS = eps_hat.T @ eps_hat.T # residual SS\n",
    "R2 = 1-RSS/TSS\n",
    "print(f'R2: [{R2:.3f}]')\n",
    "\n",
    "# get log likelihood\n",
    "E_HAT = Y - X @ B_hat\n",
    "VAR_E = np.sum(E_HAT.T @ E_HAT)/(N-M) - (np.sum(E_HAT)/(N-M))**2\n",
    "SD_E = VAR_E ** 0.5\n",
    "\n",
    "# \\frac{1}{\\sigma (2 \\pi) ^ 0.5} * \\e^{-0.5 \\frac{x-mu}{\\sigma}^2}\n",
    "loglik = np.sum(-0.5 * (E_HAT/SD_E)**2) + N * np.log(1/(SD_E * ((2*np.pi)**0.5)))\n",
    "BIC = M * np.log(N) - 2 * loglik\n",
    "print(f'log-likelihood [{loglik:.2f}]')\n",
    "print(f'Bayesian information criteria: [{BIC:.2f}]')\n",
    "\n",
    "# Get SE per beta\n",
    "# 1: VAR(AY) = A VAR(Y) A^T\n",
    "# 2: B_hat = (X^T X)^{-1} X^T Y\n",
    "# substituting U = (X^T X)^{-1} X^T => VAR(B_hat) = VAR(U Y) = U VAR(Y) U^T\n",
    "U = np.linalg.inv(X.T @ X) @ X.T\n",
    "SE_beta = (U @ (np.identity(N) * VAR_E) @ U.T).diagonal() ** 0.5\n",
    "reg['Beta SEs'] = SE_beta\n",
    "\n",
    "# Get t-stat per beta\n",
    "t_stats = B_hat / SE_beta\n",
    "reg['t-stats'] = t_stats\n",
    "\n",
    "# Get p-stat per beta\n",
    "p_null = 1 - 2 * np.abs(t.cdf(t_stats, N-M) - 0.5)  # 1 - prob of being further from center\n",
    "reg['p-vals'] = p_null\n",
    "\n",
    "display(reg)"
   ]
  },
  {
   "cell_type": "code",
   "execution_count": 44,
   "id": "35a422d6",
   "metadata": {},
   "outputs": [
    {
     "name": "stdout",
     "output_type": "stream",
     "text": [
      "                                 OLS Regression Results                                \n",
      "=======================================================================================\n",
      "Dep. Variable:                      y   R-squared (uncentered):                   0.050\n",
      "Model:                            OLS   Adj. R-squared (uncentered):              0.045\n",
      "Method:                 Least Squares   F-statistic:                              10.44\n",
      "Date:                Sat, 31 Jul 2021   Prob (F-statistic):                    8.75e-10\n",
      "Time:                        20:52:12   Log-Likelihood:                         -3702.9\n",
      "No. Observations:                1000   AIC:                                      7416.\n",
      "Df Residuals:                     995   BIC:                                      7440.\n",
      "Df Model:                           5                                                  \n",
      "Covariance Type:            nonrobust                                                  \n",
      "==============================================================================\n",
      "                 coef    std err          t      P>|t|      [0.025      0.975]\n",
      "------------------------------------------------------------------------------\n",
      "x1             2.6182      1.015      2.580      0.010       0.627       4.610\n",
      "x2             2.0829      0.966      2.156      0.031       0.187       3.978\n",
      "x3            -0.9553      0.926     -1.032      0.302      -2.772       0.861\n",
      "x4             1.0181      0.965      1.055      0.292      -0.875       2.911\n",
      "x5            -0.7459      0.978     -0.763      0.446      -2.664       1.173\n",
      "==============================================================================\n",
      "Omnibus:                        0.740   Durbin-Watson:                   1.969\n",
      "Prob(Omnibus):                  0.691   Jarque-Bera (JB):                0.803\n",
      "Skew:                          -0.061   Prob(JB):                        0.669\n",
      "Kurtosis:                       2.935   Cond. No.                         4.22\n",
      "==============================================================================\n",
      "\n",
      "Notes:\n",
      "[1] R² is computed without centering (uncentered) since the model does not contain a constant.\n",
      "[2] Standard Errors assume that the covariance matrix of the errors is correctly specified.\n"
     ]
    }
   ],
   "source": [
    "print(sm.OLS(Y, X).fit().summary())"
   ]
  },
  {
   "cell_type": "code",
   "execution_count": null,
   "id": "2f2682b7",
   "metadata": {},
   "outputs": [],
   "source": []
  }
 ],
 "metadata": {
  "kernelspec": {
   "display_name": "Python 3",
   "language": "python",
   "name": "python3"
  },
  "language_info": {
   "codemirror_mode": {
    "name": "ipython",
    "version": 3
   },
   "file_extension": ".py",
   "mimetype": "text/x-python",
   "name": "python",
   "nbconvert_exporter": "python",
   "pygments_lexer": "ipython3",
   "version": "3.9.1"
  }
 },
 "nbformat": 4,
 "nbformat_minor": 5
}
